{
  "nbformat": 4,
  "nbformat_minor": 0,
  "metadata": {
    "colab": {
      "provenance": []
    },
    "kernelspec": {
      "name": "python3",
      "display_name": "Python 3"
    },
    "language_info": {
      "name": "python"
    }
  },
  "cells": [
    {
      "cell_type": "markdown",
      "source": [
        "#CHECK GIVEN NUMBER IS PRIME OR NOT:\n",
        "\n",
        " 1.Write a Python program that checks whether a given number is prime or not. A prime number is a natural number greater than 1 that has no positive divisors other than 1 and itself."
      ],
      "metadata": {
        "id": "P8YjTqzQzAIO"
      }
    },
    {
      "cell_type": "code",
      "source": [
        "Num = int(input(\"Enter Number:\")) # take number as user input\n",
        "if Num > 1:\n",
        "  for i in range(2,Num//2+1): # take range from 2 to off of the given number\n",
        "        if Num%i==0: # check the number is divisible by any number or not\n",
        "            print(Num,\"is not a prime number\")\n",
        "            break # if the condition satisfy then the loop will close\n",
        "        else:\n",
        "            print(Num,\"is a prime number\") # else this condition will execute\n",
        "            break\n",
        "else:\n",
        "    print(Num,\"is not a prime number\") #if given number is less than 1 then it will this statement"
      ],
      "metadata": {
        "colab": {
          "base_uri": "https://localhost:8080/"
        },
        "id": "cA92eMtdO1h5",
        "outputId": "12252337-c303-427b-d8be-fb3cacfac3ad"
      },
      "execution_count": 2,
      "outputs": [
        {
          "output_type": "stream",
          "name": "stdout",
          "text": [
            "Enter Number:45\n",
            "45 is a prime number\n"
          ]
        }
      ]
    },
    {
      "cell_type": "markdown",
      "source": [
        "#PRODUCT OF RANDOM NUMBERS :\n",
        "\n",
        "2.Develop a Python program that generates two random numbers and asks the user to enter the product of these numbers. The program should then check if the user's answer is correct and display an appropriate message."
      ],
      "metadata": {
        "id": "sOlCWFACy5N1"
      }
    },
    {
      "cell_type": "code",
      "source": [
        "import numpy as np # importing numpy library for generating random numbers.\n",
        "num1=np.random.randint(1,10)\n",
        "num2=np.random.randint(1,10) # generatingting two random numbers\n",
        "print(\"num1=\",num1)\n",
        "print(\"num2=\",num2)\n",
        "product=num1*num2\n",
        "print(\"product of num1 $ num2 are:\",product) # product of two random numbers\n",
        "answer=int(input(\"Enter the product of num1 & num two:\")) # taking user input\n",
        "\n",
        "if answer==product: # check the user input match with product of 2 random numbers\n",
        "  print(\"Correct Answer\")\n",
        "else:\n",
        "  print(\"Sorry,Wrong Answer, Try Again\")\n"
      ],
      "metadata": {
        "colab": {
          "base_uri": "https://localhost:8080/"
        },
        "id": "RskMEw3UhCuI",
        "outputId": "b565facd-1a8b-4a49-ef2c-2ec8fae31e5d",
        "collapsed": true
      },
      "execution_count": 3,
      "outputs": [
        {
          "output_type": "stream",
          "name": "stdout",
          "text": [
            "num1= 9\n",
            "num2= 7\n",
            "product of num1 $ num2 are: 63\n",
            "Enter the product of num1 & num two:63\n",
            "Correct Answer\n"
          ]
        }
      ]
    },
    {
      "cell_type": "markdown",
      "source": [
        "#SQUARE OF EVEN / ODD NUMBERS :\n",
        "\n",
        "3.Create a Python script that prints the squares of all even or odd numbers within the range of 100 to 200. Choose either even or odd numbers and document your choice in the code."
      ],
      "metadata": {
        "id": "-bPCC_przwDA"
      }
    },
    {
      "cell_type": "code",
      "source": [
        "for i in range(100,201): # taking range from 100 to 200\n",
        "  if i%2==0: # diving the numbers by 2  for the even numbers.\n",
        "    print('Even Number :',i ,'Square of the number : ',i**2) # square of the even numbers"
      ],
      "metadata": {
        "id": "wlyD-AifhVE7",
        "colab": {
          "base_uri": "https://localhost:8080/"
        },
        "outputId": "8b504d25-55b9-45cc-ac39-6135eb3557db"
      },
      "execution_count": null,
      "outputs": [
        {
          "output_type": "stream",
          "name": "stdout",
          "text": [
            "Even Number : 100 Square of the number :  10000\n",
            "Even Number : 102 Square of the number :  10404\n",
            "Even Number : 104 Square of the number :  10816\n",
            "Even Number : 106 Square of the number :  11236\n",
            "Even Number : 108 Square of the number :  11664\n",
            "Even Number : 110 Square of the number :  12100\n",
            "Even Number : 112 Square of the number :  12544\n",
            "Even Number : 114 Square of the number :  12996\n",
            "Even Number : 116 Square of the number :  13456\n",
            "Even Number : 118 Square of the number :  13924\n",
            "Even Number : 120 Square of the number :  14400\n",
            "Even Number : 122 Square of the number :  14884\n",
            "Even Number : 124 Square of the number :  15376\n",
            "Even Number : 126 Square of the number :  15876\n",
            "Even Number : 128 Square of the number :  16384\n",
            "Even Number : 130 Square of the number :  16900\n",
            "Even Number : 132 Square of the number :  17424\n",
            "Even Number : 134 Square of the number :  17956\n",
            "Even Number : 136 Square of the number :  18496\n",
            "Even Number : 138 Square of the number :  19044\n",
            "Even Number : 140 Square of the number :  19600\n",
            "Even Number : 142 Square of the number :  20164\n",
            "Even Number : 144 Square of the number :  20736\n",
            "Even Number : 146 Square of the number :  21316\n",
            "Even Number : 148 Square of the number :  21904\n",
            "Even Number : 150 Square of the number :  22500\n",
            "Even Number : 152 Square of the number :  23104\n",
            "Even Number : 154 Square of the number :  23716\n",
            "Even Number : 156 Square of the number :  24336\n",
            "Even Number : 158 Square of the number :  24964\n",
            "Even Number : 160 Square of the number :  25600\n",
            "Even Number : 162 Square of the number :  26244\n",
            "Even Number : 164 Square of the number :  26896\n",
            "Even Number : 166 Square of the number :  27556\n",
            "Even Number : 168 Square of the number :  28224\n",
            "Even Number : 170 Square of the number :  28900\n",
            "Even Number : 172 Square of the number :  29584\n",
            "Even Number : 174 Square of the number :  30276\n",
            "Even Number : 176 Square of the number :  30976\n",
            "Even Number : 178 Square of the number :  31684\n",
            "Even Number : 180 Square of the number :  32400\n",
            "Even Number : 182 Square of the number :  33124\n",
            "Even Number : 184 Square of the number :  33856\n",
            "Even Number : 186 Square of the number :  34596\n",
            "Even Number : 188 Square of the number :  35344\n",
            "Even Number : 190 Square of the number :  36100\n",
            "Even Number : 192 Square of the number :  36864\n",
            "Even Number : 194 Square of the number :  37636\n",
            "Even Number : 196 Square of the number :  38416\n",
            "Even Number : 198 Square of the number :  39204\n",
            "Even Number : 200 Square of the number :  40000\n"
          ]
        }
      ]
    },
    {
      "cell_type": "markdown",
      "source": [
        "#WORD COUNTER :\n",
        "\n",
        "4.write a program to count the number of words in a given text.\n",
        "example:\n",
        "input_text = \"This is a sample text. This text will be used to demonstrate the word counter.\"\n",
        "Expected output:\n",
        "'This': 2\n",
        "'is': 1\n",
        "'a': 1\n",
        "'sample': 1\n",
        "'text.': 1\n"
      ],
      "metadata": {
        "id": "1Hf4yZprz2hG"
      }
    },
    {
      "cell_type": "code",
      "source": [
        "input_text=\"This is a sample text. This text will be used to demonstrate the word counter.\" # user text input\n",
        "\n",
        "def count_words(input_text):\n",
        "  words=input_text.split() # split the input text into a list of words based on spaces\n",
        "  word_count={} # creating empty dictionary to store the word count\n",
        "  for i in words:\n",
        "    if i in word_count: #loop through each word in the list\n",
        "      word_count[i]+=1 # if the word is already in the dictionary, increment its count by 1\n",
        "    else: # if the word is not in the dictionary, add it with an initial count of 1\n",
        "      word_count[i]=1\n",
        "  return word_count # return the dictionary containing words and their counts\n",
        "result=count_words(input_text) # calling the function, and storing in result\n",
        "print(result)\n"
      ],
      "metadata": {
        "colab": {
          "base_uri": "https://localhost:8080/"
        },
        "id": "SdQigByxab2y",
        "outputId": "4f3d9895-62ce-4379-f254-f88b9ff6548d",
        "collapsed": true
      },
      "execution_count": 4,
      "outputs": [
        {
          "output_type": "stream",
          "name": "stdout",
          "text": [
            "{'This': 2, 'is': 1, 'a': 1, 'sample': 1, 'text.': 1, 'text': 1, 'will': 1, 'be': 1, 'used': 1, 'to': 1, 'demonstrate': 1, 'the': 1, 'word': 1, 'counter.': 1}\n"
          ]
        }
      ]
    },
    {
      "cell_type": "markdown",
      "source": [
        "#CHECK FOR PALINDRONE\n",
        "\n",
        "5.Write a Python function called is_palindrome that takes a string as input and returns True if the string is a palindrome, and False otherwise. A palindrome is a word, phrase, number, or other sequence of characters that reads the same forward and backward, ignoring spaces, punctuation, and capitalization.\n",
        "Example:\n",
        "Input: \"racecar\"\n",
        "Expected Output: True\n",
        "\n"
      ],
      "metadata": {
        "id": "MRD2j6Dsz_ec"
      }
    },
    {
      "cell_type": "code",
      "source": [
        "import string\n",
        "def is_palindrome(x): # check the input string is a pa;indrome\n",
        "\n",
        " New_String=''.join(char.lower() for char in x if char.isalnum()) # creating a new string that contains only alphanumeric characters in lower case\n",
        " return New_String==New_String[::-1] # check if the processed string is equal to its reverse\n",
        "\n",
        "print(is_palindrome('racecar')) # test the function with the string 'racecar',it should return true\n",
        "print(is_palindrome('1234567654321')) #test the function with the string '1234567654321',it should return true"
      ],
      "metadata": {
        "id": "_EFcw8i50Lv3",
        "colab": {
          "base_uri": "https://localhost:8080/"
        },
        "outputId": "e24af62b-0695-4944-f6a3-54ee08324fbb"
      },
      "execution_count": 5,
      "outputs": [
        {
          "output_type": "stream",
          "name": "stdout",
          "text": [
            "True\n",
            "True\n"
          ]
        }
      ]
    },
    {
      "cell_type": "code",
      "source": [],
      "metadata": {
        "id": "EiIFZyz1Oy6r"
      },
      "execution_count": null,
      "outputs": []
    }
  ]
}