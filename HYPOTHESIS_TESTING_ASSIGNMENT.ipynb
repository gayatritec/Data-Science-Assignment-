{
  "nbformat": 4,
  "nbformat_minor": 0,
  "metadata": {
    "colab": {
      "provenance": []
    },
    "kernelspec": {
      "name": "python3",
      "display_name": "Python 3"
    },
    "language_info": {
      "name": "python"
    }
  },
  "cells": [
    {
      "cell_type": "markdown",
      "source": [
        "#HYPOTHESIS TESTING"
      ],
      "metadata": {
        "id": "1ozw2msYg4yl"
      }
    },
    {
      "cell_type": "markdown",
      "source": [
        "**Question:**\n",
        "\n",
        "\n",
        "\n",
        "*  Bombay hospitality Ltd. operates a franchise model for producing exotic Norwegian dinners throughout New England. The operating cost for a franchise in a week (W) is given by the equation W = $1,000 + $5X, where X represents the number of units produced in a week. Recent feedback from restaurant owners suggests that this cost model may no longer be accurate, as their observed weekly operating costs are higher.\n",
        "\n",
        "**Objective:**\n",
        "\n",
        "\n",
        "*  To investigate the restaurant owners' claim about the increase in weekly operating costs using hypothesis testing\n",
        "\n",
        "\n"
      ],
      "metadata": {
        "id": "tUIX8rRng8QP"
      }
    },
    {
      "cell_type": "markdown",
      "source": [
        "#Define Hypothesis:\n",
        "\n",
        "**Null Hypothesis (Ho):**  The weekly operating costs are as per model.\n",
        "\n",
        "\n",
        "\n",
        "**Alternative Hypothesis:**  The weekly operating costs are higher than the model."
      ],
      "metadata": {
        "id": "QMkCeV2fh1yt"
      }
    },
    {
      "cell_type": "markdown",
      "source": [
        "#Given Data\n",
        "\n",
        " Sample Mean weekly cost      : 3050\n",
        "\n",
        " Theoretical mean weekly cost accordjing to the cost model   : $1000+$5X=1000+5*600  =4000    (X=600)\n",
        "\n",
        " standard deviation : 5*25=125 units\n",
        "\n",
        " sample size(n)     : 25 resturants\n",
        "\n"
      ],
      "metadata": {
        "id": "QcLFDUFXjQqQ"
      }
    },
    {
      "cell_type": "code",
      "source": [
        "import math #importing required libraries\n",
        "import scipy.stats as stats\n",
        "import numpy as np\n",
        "import pandas as pd\n",
        "\n"
      ],
      "metadata": {
        "id": "8hoRfCZzjD0O"
      },
      "execution_count": null,
      "outputs": []
    },
    {
      "cell_type": "code",
      "source": [
        "sample_mean=3050 #given data\n",
        "population_mean=4000\n",
        "Sample_standard_deviation=125\n",
        "sample_size=25\n",
        "alpha=0.05"
      ],
      "metadata": {
        "id": "-Ho8aXbulOBW"
      },
      "execution_count": null,
      "outputs": []
    },
    {
      "cell_type": "markdown",
      "source": [
        "#Test Statistics (Z)"
      ],
      "metadata": {
        "id": "ZjMDtQATmURw"
      }
    },
    {
      "cell_type": "code",
      "source": [
        "#t=(sample mean-Population mean)/Std Error\n",
        "t=((3050-4000)/(125/np.sqrt(25))) # calculating the test statistic\n",
        "print(t)\n"
      ],
      "metadata": {
        "colab": {
          "base_uri": "https://localhost:8080/"
        },
        "id": "ju8786RwmZ4p",
        "outputId": "d0f1390e-cf91-4c38-9b92-eed33c8a691d"
      },
      "execution_count": null,
      "outputs": [
        {
          "output_type": "stream",
          "name": "stdout",
          "text": [
            "-38.0\n"
          ]
        }
      ]
    },
    {
      "cell_type": "markdown",
      "source": [
        "#Critical Value"
      ],
      "metadata": {
        "id": "7NrkhgKLqdm1"
      }
    },
    {
      "cell_type": "code",
      "source": [
        "alpha=0.05 #critical value for alpha is 0.05 in one tailed test.\n",
        "critical_value=stats.norm.ppf(1 - alpha) # calculate the critical value\n",
        "critical_value"
      ],
      "metadata": {
        "colab": {
          "base_uri": "https://localhost:8080/"
        },
        "id": "abykR5oc8EIg",
        "outputId": "93460f64-ee76-4eee-b7ae-d13beb2f696e"
      },
      "execution_count": null,
      "outputs": [
        {
          "output_type": "execute_result",
          "data": {
            "text/plain": [
              "1.6448536269514722"
            ]
          },
          "metadata": {},
          "execution_count": 21
        }
      ]
    },
    {
      "cell_type": "markdown",
      "source": [
        "#Decision :\n",
        "\n",
        "test statistic (Z) is -38,that is much lesser than the critical value 1.645. Therefore we faill to reject the null hypothesis.\n",
        "```\n",
        "\n"
      ],
      "metadata": {
        "id": "3p4BHasG8LeA"
      }
    },
    {
      "cell_type": "code",
      "source": [
        "if t > critical_value:\n",
        "    print(\"Reject the null hypothesis\")\n",
        "else:\n",
        "    print(\"Fail to reject the null hypothesis\")"
      ],
      "metadata": {
        "colab": {
          "base_uri": "https://localhost:8080/"
        },
        "id": "ltUo_82O8KYY",
        "outputId": "438fe385-a067-44c4-b6cb-8c67e89a6bfb"
      },
      "execution_count": null,
      "outputs": [
        {
          "output_type": "stream",
          "name": "stdout",
          "text": [
            "Fail to reject the null hypothesis\n"
          ]
        }
      ]
    },
    {
      "cell_type": "markdown",
      "source": [
        "#Conclusion :\n",
        "Based on the hypothesis test, there is no enough evidence to support the claim that the observed weekly operating costs are higher than the theoretical costs predicted by the cost mode.\n"
      ],
      "metadata": {
        "id": "GvfDBCO_vq7A"
      }
    }
  ]
}